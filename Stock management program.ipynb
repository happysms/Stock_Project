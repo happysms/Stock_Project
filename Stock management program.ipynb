{
 "cells": [
  {
   "cell_type": "markdown",
   "metadata": {},
   "source": [
    "                             
   ]
  },
  {
   "cell_type": "markdown",
   "metadata": {},
   "source": [
    "## 주제 : 개인 주식 수익률 관리 프로그램"
   ]
  },
  {
   "cell_type": "markdown",
   "metadata": {},
   "source": [
    "1. 프로젝트 목표 및 내용 : 이 프로젝트에서는 개인이 갖고 있는 각 종목의 주식을 입력받고, 현재 그 주식 종목의 가격 및 수익률을 시각적으로 보여주는 프로그램을 만드는 데에 목적을 둔다.    \n"
   ]
  },
  {
   "cell_type": "markdown",
   "metadata": {},
   "source": [
    "2. 주제 선정 이유 : 나는 주식 투자를 즐겨하는 편이며 현재 적지 않은 저가 주식을 보유하고 있다. 내가 매수한 주식의 현재가 그리고 차트 정보를 자주 확인한다. 그리고 현재가 대비 얼마만큼의 수익이 실현되었는지를 확인하기 위해 현재 수익률을 찾아 보기도 한다. 하지만 대부분 주식을 하는 사람들이 사용하는 서비스인 영웅문S, 미래에셋대우는 수익률을 확인하기 위해 공인인증서로 인증을 해야하는 번거로움이 있다.그렇기 때문에 가끔 인터넷 웹서핑을 하다보면 찾을 수 있는 주식 수익률 계산 사이트에 들어가서 확인하기도 한다. 하지만 대부분의 사이트는 수익이 얼마나 실현되었는지만 수치로 나타내주는 단순한 양상을 보였다. 내가 정말로 궁금한 것은 내가 보유한 각 종목의 주식이 얼마만큼의 폭으로 급락 급등하였는지와 어떤 종목의 주식에서 얼마만큼의 수익을 내었는지 몇 프로의 수익을 실현하였는지와 같은 자세한 정보이다. 몰론 주식 수익률 계산기에서는 그 이름에 맞게 단순히 수익을 계산해주는 것에 목적을 둔다. 하지만 앞으로 내가 만들 개인 주식 수익률 관리 프로그램에서는 주식 수익률 계산기와 달리 사용자로부터 입력받은 각 종목에 대한 수익률과 매수가 대비 현재가의 급등락의 정보까지 상세히 보여주는 프로그램이 될 것이다. \n"
   ]
  },
  {
   "cell_type": "markdown",
   "metadata": {},
   "source": [
    "3. 데이터 획득 : 네이버 주식 "
   ]
  },
  {
   "cell_type": "markdown",
   "metadata": {},
   "source": [
    "4. 구현 내용 설명\n",
    "\n",
    "1) 반복문(while)을 사용하여 사용자로부터 매수한 주식의 여러 종목을 입력받고, 입력받을 종목이 없다면 0을 입력하여 반복문에서 빠져나오도록한다. 사용자로부터 입력받을 정보는 주식 종목명, 매수 가격, 매수 수량이다.\n",
    "\n",
    "2) 입력받은 주식 정보를 2차원 리스트로 만든다. \n",
    "\n",
    "3) selenium 모듈의 webdriver를 사용하여 파이썬을 통해 웹페이지(https://www.naver.com/)를 자동으로 실행한다. 그리고 이전에 입력받은 주식의 종목명을 네이버 검색 창에 자동으로 입력하게 한다. 여기서는 Beautifulsoup 모듈을 통한 웹스크롤링을 통해 실행되게끔 할 것이다. \n",
    "\n",
    "4) 종목명을 정확하게 작성하였다면, 네이버에 증권정보와 해당 종목의 현재가가 반드시 올라와 있을 것이다. 그리고 그 증권정보의 현재가에 해당하는 정보의 html에 접근하고, 스크롤링하여 현재가를 가져온다. 그 현재가를 토대로 리스트를 만든다.  \n",
    "\n",
    "5) 사용자로부터 입력받은 각 종목의 매수가와 웹으로부터 얻은 현재가를 비교 및 연산한다.\n",
    "\n",
    "6) 연산된 값(결과 값)을 사용자에게 출력해준다. 여기에는 각 종목의 매수가 대비 현재가의 주식 가격 폭 변화와 그에 따른 수익률 그리고 pandas를 활용한 시각적인 지표가 포함된다. "
   ]
  },
  {
   "cell_type": "markdown",
   "metadata": {},
   "source": [
    "5. 오픈소스 및 라이브러리 : pandas, selenium, Beautifulsoup"
   ]
  },
  {
   "cell_type": "markdown",
   "metadata": {},
   "source": [
    "6. 결론 및 한계점\n",
    " - 계획했던 대로 원하는 서비스를 구현하였다. 과거 매수한 주식의 매수가와 현재가를 비교하여 가격변동률과 이익을 보여준다는 측면에서 사용자에게 편의를 제공할 것으로 예상된다. 하지만 이 프로그램의 문제점은 주피터 개발환경에서만 개발하였기 때문에 유저 인터페이스를 시각적으로 보여주지 못한다는 점과 기능이 너무 제한적이라는 것에 있다고 생각한다. 시각적인 측면의 문제점은 GUI를 사용하여 보완할 것이고, 기능적 측면에서는 여러 인터페이스를 구상하여 그 기능을 추가하는 것으로 문제를 해결할 것이다. "
   ]
  },
  {
   "cell_type": "code",
   "execution_count": 50,
   "metadata": {},
   "outputs": [
    {
     "name": "stdout",
     "output_type": "stream",
     "text": [
      "종목명을 입력하시오: (가지고 있는 주식이 더 이상 없다면 0을 입력하세요.)셀트리온\n",
      "매수 수량을 입력하시오: 25\n",
      "매수 가격을 입력하시오: 258000\n",
      "\n",
      "종목명을 입력하시오: (가지고 있는 주식이 더 이상 없다면 0을 입력하세요.)삼성전자\n",
      "매수 수량을 입력하시오: 60\n",
      "매수 가격을 입력하시오: 58000\n",
      "\n",
      "종목명을 입력하시오: (가지고 있는 주식이 더 이상 없다면 0을 입력하세요.)LG화학\n",
      "매수 수량을 입력하시오: 5\n",
      "매수 가격을 입력하시오: 650000\n",
      "\n",
      "종목명을 입력하시오: (가지고 있는 주식이 더 이상 없다면 0을 입력하세요.)0\n"
     ]
    }
   ],
   "source": [
    "from selenium import webdriver\n",
    "from selenium.webdriver.common.keys import Keys\n",
    "from bs4 import BeautifulSoup\n",
    "import pandas as pd\n",
    "import matplotlib.pyplot as plt\n",
    "\n",
    "total_purchase = [] # 매수 주식 정보\n",
    "total_purchase_price = 0 #전체 매수 가격\n",
    "\n",
    "\n",
    "stock =\"\" #종목 \n",
    "count= 0  # 매수 수량\n",
    "purchase_price = 0 #매수 가격\n",
    "\n",
    "# 사용자로부터 주식 정보를 입력받는다. \n",
    "while True: \n",
    "    one = []\n",
    "    stock = input(\"종목명을 입력하시오: (가지고 있는 주식이 더 이상 없다면 0을 입력하세요.)\")\n",
    "    if (stock == '0'):\n",
    "        break\n",
    "    one.append(stock)\n",
    "    count = int(input(\"매수 수량을 입력하시오: \"))\n",
    "    one.append(count)\n",
    "    purchase_price = int(input(\"매수 가격을 입력하시오: \"))\n",
    "    one.append(purchase_price)\n",
    "    one.append(0)\n",
    "    total_purchase.append(one)\n",
    "    total_purchase_price += purchase_price * count\n",
    "    print()\n"
   ]
  },
  {
   "cell_type": "code",
   "execution_count": 51,
   "metadata": {},
   "outputs": [],
   "source": [
    "total_present_price = 0 #보유 주식의 현재 주식 가격의 합\n",
    "present_price = dict() #각 주식의 현재가\n",
    "change = 0 #변동 주가 \n",
    "changeList = [] #변동 주가 리스트\n",
    "profit = 0 #손익\n",
    "profit_rate = 0 #수익률\n",
    "total_profit_rate = 0 #전체 수익률\n",
    "tax = 0 #거래세 0.25%\n",
    "changerateList = [] #주가변동률 리스트\n",
    "\n",
    "\n",
    "for i in range(len(total_purchase)):\n",
    "    browser = webdriver.Chrome()  #크롬 웹드라이버를 실행시킴\n",
    "    browser.get(\"https://naver.com\") #네이버 창\n",
    "    elem = browser.find_element_by_id(\"query\") #네이버 검색창을 찾는다.\n",
    "    elem.send_keys(total_purchase[i][0]) # 종목명을 검색한다. \n",
    "    elem.send_keys(Keys.ENTER)\n",
    "    html = browser.page_source # 해당 페이지의 주소를 읽어온다. \n",
    "    soup = BeautifulSoup(html, 'html.parser') #그 페이지를 파싱한다. \n",
    "    tmp = soup.find(\"div\" , attrs = {'class' : \"spt_tlt\"}).find(\"strong\").text #해당 페이지에서 주식의 현재가만을 가리키는 정보를 스크래핑한다.\n",
    "    browser.close() #브라우저 닫기\n",
    "    price = ''  \n",
    "    for j in range(len(tmp)):  #숫자 사이에 있는 \",\"를 지워준다. \n",
    "        if tmp[j] != ',':\n",
    "            price += tmp[j]\n",
    "    present_price[total_purchase[i][0]] = int(price)\n",
    "    \n",
    "    total_present_price += int(price) * total_purchase[i][1]\n",
    "    \n",
    "    change = present_price[total_purchase[i][0]] - total_purchase[i][2]\n",
    "    \n",
    "    changeList.append(change)\n",
    "    \n",
    "    changerateList.append((present_price[total_purchase[i][0]] / total_purchase[i][2]) - 1)\n",
    "    \n",
    "tax = total_present_price * (25/10000)\n",
    "profit = total_present_price - total_purchase_price - tax\n",
    "profit_rate = total_present_price / total_purchase_price - 1 - 0.0025"
   ]
  },
  {
   "cell_type": "code",
   "execution_count": 52,
   "metadata": {
    "scrolled": true
   },
   "outputs": [
    {
     "name": "stdout",
     "output_type": "stream",
     "text": [
      "-현재가-\n",
      "종목명 : 셀트리온\t\t매수가 : 258000\t\t현재가 : 380000 ▲122000 (47.29%)\n",
      "\n",
      "종목명 : 삼성전자\t\t매수가 : 58000\t\t현재가 : 71600 ▲13600 (23.45%)\n",
      "\n",
      "종목명 : LG화학\t\t매수가 : 650000\t\t현재가 : 848000 ▲198000 (30.46%)\n",
      "\n",
      "총손익 : 4810910.0원\n",
      "수익률 : 36.59%\n",
      "거래세 : 45090.0원\n",
      "매수금액 : 13180000원\n",
      "매도금액 : 18036000원\n"
     ]
    }
   ],
   "source": [
    "\n",
    "frame_dict = {'종목명' : [] , '매수가' : [], '현재가' : []}\n",
    "print(\"-현재가-\")\n",
    "for i in range(len(total_purchase)):\n",
    "    frame_dict['종목명'].append(total_purchase[i][0])\n",
    "    frame_dict['매수가'].append(total_purchase[i][2])\n",
    "    frame_dict['현재가'].append(present_price[total_purchase[i][0]])\n",
    "    print(\"종목명 : \" + total_purchase[i][0] +\"\\t\\t매수가 : \" + str(total_purchase[i][2]) + \"\\t\\t현재가 : \" + str(present_price[total_purchase[i][0]]),end = \" \")\n",
    "    if (changeList[i] >= 0):\n",
    "        print(\"▲\" + str(abs(changeList[i])) + \" (\" + str(round(changerateList[i]*100, 2))+  \"%)\")\n",
    "    else:\n",
    "        print(\"▼\" + str(abs(changeList[i])) + \" (\" + str(round(changerateList[i]*100 , 2)) + \"%)\")\n",
    "    print()\n",
    "    \n",
    "print(\"총손익 : \" + str(profit) + \"원\")\n",
    "print(\"수익률 : \" + str(round(profit_rate * 100, 2)) + \"%\")\n",
    "print(\"거래세 : \" + str(tax) + \"원\")\n",
    "print(\"매수금액 : \" + str(total_purchase_price) + \"원\")\n",
    "print(\"매도금액 : \" + str(total_present_price) + \"원\")\n",
    "\n",
    "frame = pd.DataFrame(frame_dict)\n",
    "frame = frame.set_index('종목명')"
   ]
  },
  {
   "cell_type": "code",
   "execution_count": 53,
   "metadata": {},
   "outputs": [
    {
     "data": {
      "text/html": [
       "<div>\n",
       "<style scoped>\n",
       "    .dataframe tbody tr th:only-of-type {\n",
       "        vertical-align: middle;\n",
       "    }\n",
       "\n",
       "    .dataframe tbody tr th {\n",
       "        vertical-align: top;\n",
       "    }\n",
       "\n",
       "    .dataframe thead th {\n",
       "        text-align: right;\n",
       "    }\n",
       "</style>\n",
       "<table border=\"1\" class=\"dataframe\">\n",
       "  <thead>\n",
       "    <tr style=\"text-align: right;\">\n",
       "      <th></th>\n",
       "      <th>매수가</th>\n",
       "      <th>현재가</th>\n",
       "    </tr>\n",
       "    <tr>\n",
       "      <th>종목명</th>\n",
       "      <th></th>\n",
       "      <th></th>\n",
       "    </tr>\n",
       "  </thead>\n",
       "  <tbody>\n",
       "    <tr>\n",
       "      <th>셀트리온</th>\n",
       "      <td>258000</td>\n",
       "      <td>380000</td>\n",
       "    </tr>\n",
       "    <tr>\n",
       "      <th>삼성전자</th>\n",
       "      <td>58000</td>\n",
       "      <td>71600</td>\n",
       "    </tr>\n",
       "    <tr>\n",
       "      <th>LG화학</th>\n",
       "      <td>650000</td>\n",
       "      <td>848000</td>\n",
       "    </tr>\n",
       "  </tbody>\n",
       "</table>\n",
       "</div>"
      ],
      "text/plain": [
       "         매수가     현재가\n",
       "종목명                 \n",
       "셀트리온  258000  380000\n",
       "삼성전자   58000   71600\n",
       "LG화학  650000  848000"
      ]
     },
     "execution_count": 53,
     "metadata": {},
     "output_type": "execute_result"
    }
   ],
   "source": [
    "#데이터 프레임으로 표현\n",
    "frame"
   ]
  },
  {
   "cell_type": "code",
   "execution_count": 63,
   "metadata": {},
   "outputs": [
    {
     "data": {
      "text/plain": [
       "Text(0.5,1,'주식가격변동추이')"
      ]
     },
     "execution_count": 63,
     "metadata": {},
     "output_type": "execute_result"
    },
    {
     "data": {
      "image/png": "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\n",
      "text/plain": [
       "<Figure size 432x288 with 1 Axes>"
      ]
     },
     "metadata": {
      "needs_background": "light"
     },
     "output_type": "display_data"
    }
   ],
   "source": [
    "#도표로 표현\n",
    "from matplotlib import font_manager, rc\n",
    "\n",
    "font_name = font_manager.FontProperties(fname=\"c:/Windows/Fonts/malgun.ttf\").get_name()\n",
    "rc('font', family=font_name)\n",
    "path = \"C:\\\\Users\\\\user\\\\Downloads\\\\NanumBarunGothic.ttf\"\n",
    "\n",
    "fontprop = fm.FontProperties(fname = path, size=18)\n",
    "    \n",
    "bar = frame.plot.bar(grid = True)\n",
    "bar.set_xlabel('종목명', fontproperties=fontprop)\n",
    "bar.set_ylabel('매수가&현재가', fontproperties=fontprop)\n",
    "\n",
    "bar.set_title('주식가격변동추이', fontproperties=fontprop)\n"
   ]
  }
 ],
 "metadata": {
  "kernelspec": {
   "display_name": "Python 3",
   "language": "python",
   "name": "python3"
  },
  "language_info": {
   "codemirror_mode": {
    "name": "ipython",
    "version": 3
   },
   "file_extension": ".py",
   "mimetype": "text/x-python",
   "name": "python",
   "nbconvert_exporter": "python",
   "pygments_lexer": "ipython3",
   "version": "3.7.1"
  }
 },
 "nbformat": 4,
 "nbformat_minor": 2
}
